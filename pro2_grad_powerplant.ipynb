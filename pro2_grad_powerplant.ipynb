{
 "cells": [
  {
   "cell_type": "code",
   "execution_count": 200,
   "metadata": {},
   "outputs": [],
   "source": [
    "import numpy as np\n",
    "import pandas as pd\n",
    "from sklearn.preprocessing import StandardScaler"
   ]
  },
  {
   "cell_type": "code",
   "execution_count": 201,
   "metadata": {},
   "outputs": [],
   "source": [
    "plant_data_train = pd.read_csv(\"0000000000002419_training_ccpp_x_y_train.csv\",delimiter=\",\")\n",
    "plant_data_test = pd.read_csv(\"0000000000002419_test_ccpp_x_test.csv\",delimiter=\",\",header=None)\n",
    "\n",
    "xtrain = plant_data_train.values[:,0:4]\n",
    "ytrain = plant_data_train.values[:,4]\n",
    "xtest = plant_data_test.values[:,:]\n"
   ]
  },
  {
   "cell_type": "code",
   "execution_count": 202,
   "metadata": {},
   "outputs": [
    {
     "name": "stdout",
     "output_type": "stream",
     "text": [
      "       0      1        2      3         4          5             6          7\n",
      "0   8.58  38.38  1021.03  84.37   73.6164  1473.0244  1.042502e+06  7118.2969\n",
      "1  21.79  58.20  1017.21  66.74  474.8041  3387.2400  1.034716e+06  4454.2276\n",
      "2  16.64  48.92  1011.55  78.76  276.8896  2393.1664  1.023233e+06  6203.1376\n",
      "3  31.38  71.32  1009.17  60.42  984.7044  5086.5424  1.018424e+06  3650.5764\n",
      "4   9.20  40.03  1017.05  92.46   84.6400  1602.4009  1.034391e+06  8548.8516\n"
     ]
    }
   ],
   "source": [
    "xtrain = pd.DataFrame(xtrain)\n",
    "power = 2\n",
    "col = xtrain.shape[1]\n",
    "for i in range(2,power+1):\n",
    "    for j in range(col):\n",
    "        xtrain.insert(len(xtrain.columns),len(xtrain.columns),xtrain.values[:,j]**i)\n",
    "    \n",
    "print(xtrain.head())"
   ]
  },
  {
   "cell_type": "code",
   "execution_count": 203,
   "metadata": {},
   "outputs": [],
   "source": [
    "xtest = pd.DataFrame(xtest)\n",
    "power = 2\n",
    "col = xtest.shape[1]\n",
    "for i in range(2,power+1):\n",
    "    for j in range(col):\n",
    "        xtest.insert(len(xtest.columns),len(xtest.columns),xtest.values[:,j]**i)"
   ]
  },
  {
   "cell_type": "code",
   "execution_count": 204,
   "metadata": {},
   "outputs": [
    {
     "name": "stdout",
     "output_type": "stream",
     "text": [
      "(7176, 8)\n",
      "(2392, 8)\n"
     ]
    }
   ],
   "source": [
    "a = StandardScaler();\n",
    "a.fit(xtrain)\n",
    "xtrain = a.transform(xtrain)\n",
    "xtest  = a.transform(xtest)\n",
    "print(xtrain.shape)\n",
    "print(xtest.shape)\n"
   ]
  },
  {
   "cell_type": "code",
   "execution_count": 205,
   "metadata": {},
   "outputs": [
    {
     "name": "stdout",
     "output_type": "stream",
     "text": [
      "          0         1         2         3         4         5         6  \\\n",
      "0 -1.478275 -1.247642  1.302211  0.758625 -1.261577 -1.150811  1.303164   \n",
      "1  0.289012  0.306798  0.661749 -0.446922  0.115342  0.195083  0.659541   \n",
      "2 -0.399976 -0.421013 -0.287207  0.375011 -0.563922 -0.503855 -0.289664   \n",
      "3  1.572001  1.335770 -0.686238 -0.879086  1.865376  1.389870 -0.687218   \n",
      "4 -1.395329 -1.118236  0.634923  1.311822 -1.223743 -1.059846  0.632635   \n",
      "\n",
      "          7  8  \n",
      "0  0.741910  1  \n",
      "1 -0.545638  1  \n",
      "2  0.299612  1  \n",
      "3 -0.934044  1  \n",
      "4  1.433300  1  \n"
     ]
    }
   ],
   "source": [
    "xtrain = pd.DataFrame(xtrain)\n",
    "xtrain.insert(len(xtrain.columns),len(xtrain.columns),1)\n",
    "\n",
    "print(xtrain.head())"
   ]
  },
  {
   "cell_type": "code",
   "execution_count": 206,
   "metadata": {},
   "outputs": [
    {
     "name": "stdout",
     "output_type": "stream",
     "text": [
      "          0         1         2         3         4         5         6  \\\n",
      "0 -1.027423 -0.961380  0.723783  1.204465 -1.024123 -0.944452  0.721776   \n",
      "1 -1.011368 -1.257837 -0.099428  0.573314 -1.014230 -1.157815 -0.102256   \n",
      "2  0.973986  1.623600 -1.278078  0.390054  0.971118  1.767408 -1.275143   \n",
      "3  0.127133 -1.157450 -1.271372 -0.764891 -0.060614 -1.087815 -1.268492   \n",
      "4 -0.381246 -1.340186 -0.216790 -0.296485 -0.547864 -1.213517 -0.219411   \n",
      "\n",
      "          7  8  \n",
      "0  1.294177  1  \n",
      "1  0.524453  1  \n",
      "2  0.316384  1  \n",
      "3 -0.835165  1  \n",
      "4 -0.401375  1  \n"
     ]
    }
   ],
   "source": [
    "xtest = pd.DataFrame(xtest)\n",
    "xtest.insert(len(xtest.columns),len(xtest.columns),1)\n",
    "\n",
    "print(xtest.head())"
   ]
  },
  {
   "cell_type": "code",
   "execution_count": 207,
   "metadata": {},
   "outputs": [
    {
     "name": "stdout",
     "output_type": "stream",
     "text": [
      "<class 'pandas.core.frame.DataFrame'> <class 'pandas.core.frame.DataFrame'> <class 'numpy.ndarray'>\n"
     ]
    }
   ],
   "source": [
    "print(type(xtrain),type(xtest),type(ytrain))"
   ]
  },
  {
   "cell_type": "code",
   "execution_count": 208,
   "metadata": {},
   "outputs": [],
   "source": [
    "def cost(xtrain,ytrain,m):\n",
    "    M = len(xtrain)\n",
    "    total_cost = 0\n",
    "    for i in range(M):\n",
    "        x = xtrain[i]\n",
    "        sum=0\n",
    "        for j in range(xtrain.shape[1]):\n",
    "            sum += m[j]*x[j]\n",
    "        total_cost += (1/M)*((ytrain[i]- sum) **2)\n",
    "            \n",
    "    return total_cost"
   ]
  },
  {
   "cell_type": "code",
   "execution_count": 209,
   "metadata": {},
   "outputs": [],
   "source": [
    "def stepGrad(xtrain,ytrain,learning_rate,m):\n",
    "    M = len(xtrain)\n",
    "    mslope = np.zeros(xtrain.shape[1])\n",
    "    for i in range(M):\n",
    "        x = xtrain[i]\n",
    "        sum=0\n",
    "        for j in range(len(m)-1):\n",
    "            sum += m[j]*x[j]\n",
    "        for k in range(0,xtrain.shape[1]):\n",
    "            mslope[k] += (-2/M)*((ytrain[i]- sum) *x[k])\n",
    "    mnew = m -  float(learning_rate)*mslope\n",
    "        \n",
    "    return mnew\n"
   ]
  },
  {
   "cell_type": "code",
   "execution_count": 210,
   "metadata": {},
   "outputs": [],
   "source": [
    "def gradDesc(xtrain,ytrain,learning_rate,num_iterations):\n",
    "    m = np.zeros(xtrain.shape[1])\n",
    "    for i in range(num_iterations):\n",
    "        m = stepGrad(xtrain,ytrain,learning_rate,m)\n",
    "        print(i,\"cost:\",cost(xtrain,ytrain,m))\n",
    "    return m\n",
    "    "
   ]
  },
  {
   "cell_type": "code",
   "execution_count": 213,
   "metadata": {},
   "outputs": [],
   "source": [
    "def run(xtrain,ytrain):\n",
    "    learning_rate = 0.005\n",
    "    num_iterations = 100\n",
    "    m = gradDesc(xtrain,ytrain,learning_rate,num_iterations)\n",
    "    return m"
   ]
  },
  {
   "cell_type": "code",
   "execution_count": 215,
   "metadata": {
    "scrolled": true
   },
   "outputs": [
    {
     "name": "stdout",
     "output_type": "stream",
     "text": [
      "0 cost: 202668.5080839504\n",
      "1 cost: 198579.155865924\n",
      "2 cost: 194533.08835495397\n",
      "3 cost: 190530.11746701907\n",
      "4 cost: 186570.07300009503\n",
      "5 cost: 182652.8009329707\n",
      "6 cost: 178778.1618859253\n",
      "7 cost: 174946.0297278734\n",
      "8 cost: 171156.29031605352\n",
      "9 cost: 167408.84035560934\n",
      "10 cost: 163703.58636770013\n",
      "11 cost: 160040.44375578655\n",
      "12 cost: 156419.33596074913\n",
      "13 cost: 152840.19369640827\n",
      "14 cost: 149302.95425776747\n",
      "15 cost: 145807.56089508024\n",
      "16 cost: 142353.96224746792\n",
      "17 cost: 138942.11183043002\n",
      "18 cost: 135571.9675720976\n",
      "19 cost: 132243.49139363415\n",
      "20 cost: 128956.64882952643\n",
      "21 cost: 125711.40868402536\n",
      "22 cost: 122507.74272025519\n",
      "23 cost: 119345.62537890665\n",
      "24 cost: 116225.03352369036\n",
      "25 cost: 113145.9462110028\n",
      "26 cost: 110108.34448151098\n",
      "27 cost: 107112.21117155034\n",
      "28 cost: 104157.53074247781\n",
      "29 cost: 101244.28912624725\n",
      "30 cost: 98372.47358567787\n",
      "31 cost: 95542.07258801181\n",
      "32 cost: 92753.07569049812\n",
      "33 cost: 90005.47343686354\n",
      "34 cost: 87299.25726362152\n",
      "35 cost: 84634.41941529754\n",
      "36 cost: 82010.95286771604\n",
      "37 cost: 79428.85125858079\n",
      "38 cost: 76888.10882465511\n",
      "39 cost: 74388.72034492112\n",
      "40 cost: 71930.68108913666\n",
      "41 cost: 69513.98677128695\n",
      "42 cost: 67138.63350746097\n",
      "43 cost: 64804.6177777335\n",
      "44 cost: 62511.93639166711\n",
      "45 cost: 60260.586457096026\n",
      "46 cost: 58050.56535187602\n",
      "47 cost: 55881.87069831939\n",
      "48 cost: 53754.50034005867\n",
      "49 cost: 51668.452321106844\n",
      "50 cost: 49623.72486691232\n",
      "51 cost: 47620.316367206025\n",
      "52 cost: 45658.22536048446\n",
      "53 cost: 43737.450519962425\n",
      "54 cost: 41857.99064086064\n",
      "55 cost: 40019.844628899584\n",
      "56 cost: 38223.011489887314\n",
      "57 cost: 36467.490320292934\n",
      "58 cost: 34753.28029871678\n",
      "59 cost: 33080.3806781686\n",
      "60 cost: 31448.790779077346\n",
      "61 cost: 29858.509982965777\n",
      "62 cost: 28309.53772672299\n",
      "63 cost: 26801.87349742058\n",
      "64 cost: 25335.516827618816\n",
      "65 cost: 23910.467291119414\n",
      "66 cost: 22526.724499118103\n",
      "67 cost: 21184.28809672286\n",
      "68 cost: 19883.157759800684\n",
      "69 cost: 18623.33319212291\n",
      "70 cost: 17404.814122780386\n",
      "71 cost: 16227.600303842348\n",
      "72 cost: 15091.691508237143\n",
      "73 cost: 13997.087527832027\n",
      "74 cost: 12943.788171694352\n",
      "75 cost: 11931.793264517048\n",
      "76 cost: 10961.102645191871\n",
      "77 cost: 10031.716165516893\n",
      "78 cost: 9143.63368902584\n",
      "79 cost: 8296.855089927158\n",
      "80 cost: 7491.380252142353\n",
      "81 cost: 6727.209068435366\n",
      "82 cost: 6004.341439622382\n",
      "83 cost: 5322.7772738562435\n",
      "84 cost: 4682.516485977596\n",
      "85 cost: 4083.5589969262805\n",
      "86 cost: 3525.904733207785\n",
      "87 cost: 3009.553626409333\n",
      "88 cost: 2534.5056127606413\n",
      "89 cost: 2100.760632735675\n",
      "90 cost: 1708.318630690987\n",
      "91 cost: 1357.1795545376021\n",
      "92 cost: 1047.3433554429607\n",
      "93 cost: 778.8099875603764\n",
      "94 cost: 551.5794077831445\n",
      "95 cost: 365.6515755212218\n",
      "96 cost: 221.02645249816302\n",
      "97 cost: 117.70400256652783\n",
      "98 cost: 55.68419153997929\n",
      "99 cost: 34.96698704051285\n"
     ]
    }
   ],
   "source": [
    "xtrain = xtrain[:,:]\n",
    "ytrain = ytrain\n",
    "\n",
    "m_ans = run(xtrain,ytrain)"
   ]
  },
  {
   "cell_type": "code",
   "execution_count": 216,
   "metadata": {},
   "outputs": [
    {
     "name": "stdout",
     "output_type": "stream",
     "text": [
      "(2392,)\n"
     ]
    }
   ],
   "source": [
    "ypred = np.zeros(len(xtest))\n",
    "\n",
    "for i in range(len(xtest)):\n",
    "    x = xtest.values[i,:]\n",
    "    l = len(m_ans)\n",
    "    tsum = 0\n",
    "    for j in range(l):\n",
    "        tsum += m_ans[j]*x[j]\n",
    "    ypred[i] = tsum\n",
    "print(ypred.shape)\n",
    "np.savetxt(\"prediction.csv\",ypred)"
   ]
  }
 ],
 "metadata": {
  "kernelspec": {
   "display_name": "Python 3",
   "language": "python",
   "name": "python3"
  },
  "language_info": {
   "codemirror_mode": {
    "name": "ipython",
    "version": 3
   },
   "file_extension": ".py",
   "mimetype": "text/x-python",
   "name": "python",
   "nbconvert_exporter": "python",
   "pygments_lexer": "ipython3",
   "version": "3.7.1"
  }
 },
 "nbformat": 4,
 "nbformat_minor": 2
}
