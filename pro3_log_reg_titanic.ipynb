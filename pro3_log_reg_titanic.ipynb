{
 "cells": [
  {
   "cell_type": "code",
   "execution_count": 199,
   "metadata": {},
   "outputs": [],
   "source": [
    "import numpy as np\n",
    "import pandas as pd\n",
    "from sklearn.linear_model import LogisticRegression"
   ]
  },
  {
   "cell_type": "code",
   "execution_count": 256,
   "metadata": {},
   "outputs": [
    {
     "data": {
      "text/html": [
       "<div>\n",
       "<style scoped>\n",
       "    .dataframe tbody tr th:only-of-type {\n",
       "        vertical-align: middle;\n",
       "    }\n",
       "\n",
       "    .dataframe tbody tr th {\n",
       "        vertical-align: top;\n",
       "    }\n",
       "\n",
       "    .dataframe thead th {\n",
       "        text-align: right;\n",
       "    }\n",
       "</style>\n",
       "<table border=\"1\" class=\"dataframe\">\n",
       "  <thead>\n",
       "    <tr style=\"text-align: right;\">\n",
       "      <th></th>\n",
       "      <th>Pclass</th>\n",
       "      <th>Sex</th>\n",
       "      <th>Age</th>\n",
       "      <th>SibSp</th>\n",
       "      <th>Parch</th>\n",
       "      <th>Fare</th>\n",
       "      <th>Embarked</th>\n",
       "      <th>Survived</th>\n",
       "    </tr>\n",
       "  </thead>\n",
       "  <tbody>\n",
       "    <tr>\n",
       "      <th>0</th>\n",
       "      <td>2</td>\n",
       "      <td>1</td>\n",
       "      <td>29.000000</td>\n",
       "      <td>1</td>\n",
       "      <td>0</td>\n",
       "      <td>26.000</td>\n",
       "      <td>0</td>\n",
       "      <td>1</td>\n",
       "    </tr>\n",
       "    <tr>\n",
       "      <th>1</th>\n",
       "      <td>3</td>\n",
       "      <td>0</td>\n",
       "      <td>30.857143</td>\n",
       "      <td>0</td>\n",
       "      <td>0</td>\n",
       "      <td>8.050</td>\n",
       "      <td>0</td>\n",
       "      <td>0</td>\n",
       "    </tr>\n",
       "    <tr>\n",
       "      <th>2</th>\n",
       "      <td>2</td>\n",
       "      <td>0</td>\n",
       "      <td>39.000000</td>\n",
       "      <td>0</td>\n",
       "      <td>0</td>\n",
       "      <td>26.000</td>\n",
       "      <td>0</td>\n",
       "      <td>0</td>\n",
       "    </tr>\n",
       "    <tr>\n",
       "      <th>3</th>\n",
       "      <td>3</td>\n",
       "      <td>1</td>\n",
       "      <td>29.000000</td>\n",
       "      <td>0</td>\n",
       "      <td>4</td>\n",
       "      <td>21.075</td>\n",
       "      <td>0</td>\n",
       "      <td>0</td>\n",
       "    </tr>\n",
       "    <tr>\n",
       "      <th>4</th>\n",
       "      <td>3</td>\n",
       "      <td>0</td>\n",
       "      <td>25.000000</td>\n",
       "      <td>0</td>\n",
       "      <td>0</td>\n",
       "      <td>7.050</td>\n",
       "      <td>0</td>\n",
       "      <td>0</td>\n",
       "    </tr>\n",
       "  </tbody>\n",
       "</table>\n",
       "</div>"
      ],
      "text/plain": [
       "   Pclass  Sex        Age  SibSp  Parch    Fare  Embarked  Survived\n",
       "0       2    1  29.000000      1      0  26.000         0         1\n",
       "1       3    0  30.857143      0      0   8.050         0         0\n",
       "2       2    0  39.000000      0      0  26.000         0         0\n",
       "3       3    1  29.000000      0      4  21.075         0         0\n",
       "4       3    0  25.000000      0      0   7.050         0         0"
      ]
     },
     "execution_count": 256,
     "metadata": {},
     "output_type": "execute_result"
    }
   ],
   "source": [
    "titanic_data = pd.read_csv(\"0000000000002429_training_titanic_x_y_train.csv\", delimiter=\",\")\n",
    "titanic_data_test = pd.read_csv(\"0000000000002429_test_titanic_x_test.csv\",delimiter=\",\")\n",
    "\n",
    "\n",
    "del titanic_data[\"Name\"]\n",
    "del titanic_data[\"Ticket\"]\n",
    "del titanic_data[\"Cabin\"]\n",
    "\n",
    "del titanic_data_test[\"Name\"]\n",
    "del titanic_data_test[\"Ticket\"]\n",
    "del titanic_data_test[\"Cabin\"]\n",
    "\n",
    "\n",
    "\n",
    "def f1(s):\n",
    "    if s==\"male\":\n",
    "        return 0\n",
    "    else:\n",
    "        return 1\n",
    "\n",
    "\n",
    "titanic_data[\"Sex\"] = titanic_data.Sex.apply(f1)\n",
    "titanic_data_test[\"Sex\"] = titanic_data_test.Sex.apply(f1)\n",
    "\n",
    "def f2(s):\n",
    "    if s==\"S\":\n",
    "        return 0\n",
    "    elif s==\"C\":\n",
    "        return 1\n",
    "    else:\n",
    "        return 2\n",
    "\n",
    "\n",
    "titanic_data[\"Embarked\"] = titanic_data.Embarked.apply(f2)\n",
    "titanic_data_test[\"Embarked\"] = titanic_data_test.Embarked.apply(f2)\n",
    "\n",
    "\n",
    "tdata = titanic_data[titanic_data.Survived==1]\n",
    "tdata2 = titanic_data[titanic_data.Survived==0]\n",
    "\n",
    "tdata.isnull().sum()\n",
    "tdata2.isnull().sum()\n",
    "\n",
    "tdata.Age.fillna(tdata.Age.mean(),inplace=True)\n",
    "\n",
    "tdata2.Age.fillna(tdata2.Age.mean(),inplace=True)\n",
    "\n",
    "titanic_data.isnull().sum()\n",
    "\n",
    "titanic_data[titanic_data.Survived==1] = tdata\n",
    "\n",
    "titanic_data[titanic_data.Survived==0] = tdata2\n",
    "\n",
    "titanic_data.isnull().sum()\n",
    "\n",
    "\n",
    "titanic_data_test.Age.fillna(titanic_data.Age.mean(),inplace=True)\n",
    "\n",
    "xtrain = titanic_data.values[:,:7]\n",
    "ytrain = titanic_data.values[:,7]\n",
    "\n",
    "xtest = titanic_data_test.values[:,:7]\n",
    " \n",
    "alg1 = LogisticRegression(max_iter=500,solver='liblinear',C=0.25)  \n",
    " \n",
    "titanic_data.head()\n",
    "  "
   ]
  },
  {
   "cell_type": "code",
   "execution_count": 257,
   "metadata": {},
   "outputs": [
    {
     "data": {
      "text/plain": [
       "LogisticRegression(C=0.25, class_weight=None, dual=False, fit_intercept=True,\n",
       "          intercept_scaling=1, max_iter=500, multi_class='warn',\n",
       "          n_jobs=None, penalty='l2', random_state=None, solver='liblinear',\n",
       "          tol=0.0001, verbose=0, warm_start=False)"
      ]
     },
     "execution_count": 257,
     "metadata": {},
     "output_type": "execute_result"
    }
   ],
   "source": [
    "alg1.fit(xtrain,ytrain) \n"
   ]
  },
  {
   "cell_type": "code",
   "execution_count": 258,
   "metadata": {},
   "outputs": [],
   "source": [
    "ytest_pred = alg1.predict(xtest)"
   ]
  },
  {
   "cell_type": "code",
   "execution_count": 259,
   "metadata": {},
   "outputs": [],
   "source": [
    "np.savetxt(\"prediction.csv\",ytest_pred)"
   ]
  }
 ],
 "metadata": {
  "kernelspec": {
   "display_name": "Python 3",
   "language": "python",
   "name": "python3"
  },
  "language_info": {
   "codemirror_mode": {
    "name": "ipython",
    "version": 3
   },
   "file_extension": ".py",
   "mimetype": "text/x-python",
   "name": "python",
   "nbconvert_exporter": "python",
   "pygments_lexer": "ipython3",
   "version": "3.7.1"
  }
 },
 "nbformat": 4,
 "nbformat_minor": 2
}
